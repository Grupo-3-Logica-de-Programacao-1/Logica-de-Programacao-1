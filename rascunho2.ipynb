{
  "nbformat": 4,
  "nbformat_minor": 0,
  "metadata": {
    "colab": {
      "provenance": []
    },
    "kernelspec": {
      "name": "python3",
      "display_name": "Python 3"
    },
    "language_info": {
      "name": "python"
    }
  },
  "cells": [
    {
      "cell_type": "code",
      "execution_count": null,
      "metadata": {
        "id": "pSlDib7vJLj-"
      },
      "outputs": [],
      "source": [
        "def exibir_menu():\n",
        "    MENU = '''\\n----------MENU----------\n",
        "(1) Cadastrar Restaurante e Cardápio\\n\n",
        "(2) Fazer Pedido\\n\n",
        "(3) Sair\\n\n",
        "Escolha uma opção:'''\n",
        "    return input((MENU))"
      ]
    },
    {
      "cell_type": "code",
      "source": [
        "def cadastrar_restaurante(restaurantes):\n",
        "    id_restaurante = input(\"Número do Restaurante: \")\n",
        "    cardapio = []\n",
        "    SAIR = '0'\n",
        "\n",
        "    item = input(\"Cadastre o item(Nome), Valor(R$), Tempo para fazer o prato(min) [0 Termina Cadastro]: \")\n",
        "    rodar_programa = item != SAIR\n",
        "\n",
        "    while (rodar_programa):\n",
        "        nome, valor, tempo = item.split(\", \")\n",
        "        cardapio.append((nome, float(valor), int(tempo)))\n",
        "        item = input(\"Cadastre o item(Nome), Valor(R$), Tempo para fazer o prato(min) [0 Termina Cadastro]: \")\n",
        "        rodar_programa = item != SAIR\n",
        "    restaurante = (id_restaurante, cardapio)\n",
        "    restaurantes.append(restaurante)"
      ],
      "metadata": {
        "id": "Ck_kDKX7JODb"
      },
      "execution_count": null,
      "outputs": []
    },
    {
      "cell_type": "code",
      "source": [
        "def fazer_pedido (restaurantes):\n",
        "    id_restaurante = input('Informe o número do Restaurante: ')\n",
        "    restaurante_encontrado = None\n",
        "\n",
        "    for restaurante in restaurantes:\n",
        "        if restaurante[0] == id_restaurante:\n",
        "           restaurante_encontrado = restaurante\n",
        "    if restaurante_encontrado:\n",
        "        cardapio = restaurante_encontrado[1]\n",
        "\n",
        "        print(\"Cardápio:\")\n",
        "        for i, (nome, valor, tempo) in enumerate(cardapio, 1):\n",
        "            print(f\"{i} - {nome} - R$ {valor:.2f} - Tempo: {tempo} min\")\n",
        "\n",
        "        pedido = []\n",
        "        SAIR = '0'\n",
        "\n",
        "        escolha_item = 0\n",
        "        rodar_programa = escolha_item != SAIR\n",
        "        item_valido = escolha_item <= len(cardapio) and escolha_item > 0\n",
        "        item_invalido = escolha_item > len(cardapio) or escolha_item < 0\n",
        "\n",
        "        while (rodar_programa):\n",
        "            escolha_item = int(input(\"Incluir item [0 Termina Pedido]: \"))\n",
        "            if escolha_item == item_invalido:\n",
        "                print(\"Item não encontrado. Por favor, cadastre o item primeiro.\")\n",
        "                escolha_item = int(input(\"Incluir item [0 Termina Pedido]: \"))\n",
        "            elif escolha_item == item_valido:\n",
        "                pedido.append(cardapio[int(escolha_item) -1])\n",
        "            rodar_programa = escolha_item != SAIR\n",
        "\n",
        "        total = sum(item[1] for item in pedido)\n",
        "        tempo_total = max(item[2] for item in pedido)\n",
        "        print(f\"Seu pedido ficou R$ {total:.2f} e será entregue em {tempo_total} min\")\n",
        "    else:\n",
        "        print(\"Restaurante não encontrado. Por favor, cadastre o restaurante primeiro.\")"
      ],
      "metadata": {
        "id": "9kwJIufyJQ5p"
      },
      "execution_count": null,
      "outputs": []
    },
    {
      "cell_type": "code",
      "source": [
        "restaurantes = []\n",
        "\n",
        "CADASTRAR_RESTAURANTE = '1'\n",
        "FAZER_PEDIDO = '2'\n",
        "SAIR_PROGRAMA = '3'\n",
        "\n",
        "\n",
        "rodar_programa = True\n",
        "\n",
        "while (rodar_programa):\n",
        "    opcao_escolhida = exibir_menu()\n",
        "\n",
        "    cadastro_restaurante = opcao_escolhida == CADASTRAR_RESTAURANTE\n",
        "    pedido = opcao_escolhida == FAZER_PEDIDO\n",
        "    encerrar_programa = opcao_escolhida == SAIR_PROGRAMA\n",
        "    #erro = opcao_escolhida != CADASTRAR_RESTAURANTE and opcao_escolhida != FAZER_PEDIDO and opcao_escolhida != SAIR_PROGRAMA\n",
        "\n",
        "\n",
        "    if (cadastro_restaurante):\n",
        "        cadastrar_restaurante(restaurantes)\n",
        "    elif (pedido):\n",
        "        fazer_pedido(restaurantes)\n",
        "    elif (encerrar_programa):\n",
        "        rodar_programa = False\n",
        "    else:\n",
        "        print('Opção inválida, tente novamente')"
      ],
      "metadata": {
        "id": "5xeAYLNMJUVT"
      },
      "execution_count": null,
      "outputs": []
    }
  ]
}