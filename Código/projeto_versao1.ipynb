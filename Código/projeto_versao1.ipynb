{
  "nbformat": 4,
  "nbformat_minor": 0,
  "metadata": {
    "colab": {
      "provenance": []
    },
    "kernelspec": {
      "name": "python3",
      "display_name": "Python 3"
    },
    "language_info": {
      "name": "python"
    }
  },
  "cells": [
    {
      "cell_type": "markdown",
      "source": [
        "- Nomeamos variáveis utilizando o padrão snake_case (todas as letras em minúsculas separadas por \"_\").\n",
        "- A liguagem Python é case sensitive, ou seja, difere entre minúsculas e maiúsculas - nos valores das variáveis e também nos nomes das funções;\n",
        "- Não utilizamos palavras reservadas e nomes de funções para definir variáveis.\n",
        "- É melhor que não tenha acento.\n"
      ],
      "metadata": {
        "id": "qMkqBV8G9sGI"
      }
    },
    {
      "cell_type": "code",
      "source": [
        "def menu():\n",
        "    MENU = '''\\n----------MENU----------\n",
        "(1) Cadastrar Restaurante e Cardápio\\n\n",
        "(2) Fazer Pedido\\n\n",
        "(3) Sair\\n\n",
        "Escolha uma opção:'''\n",
        "    return input((MENU))"
      ],
      "metadata": {
        "id": "m2idRsoy4414"
      },
      "execution_count": null,
      "outputs": []
    },
    {
      "cell_type": "markdown",
      "source": [
        "- Criação de variável booleana para não usar expressões lógicas dentro de expressões condicionais (\"regra do Kuma\").\n",
        "- A estrutura de repetição WHILE é composta por: a) um cabeçalho inicial, que contém uma condição - dada por uma expressão booleana - determinando a execução (ou não) do código; b) por um bloco que conterá a variável de controle e as instruções a serem realizadas e c) pela atualização da variável de controle - primordial para que a condição do cabeçalho inicial seja modificada e não mantenha a estrutura em loop infinito.\n",
        "- A criação de funções (nomenclatura) adota o padrão snake_case e possui um verbo no infinitivo seguido por um substantivo. Ex.: cadastrar_restaurante (\"regra do Kuma\")."
      ],
      "metadata": {
        "id": "5p1YQ5T1I0A-"
      }
    },
    {
      "cell_type": "code",
      "source": [
        "def cadastrar_restaurante(restaurantes):\n",
        "    id_restaurante = input(\"Número do Restaurante: \")\n",
        "    cardapio = []\n",
        "    sair = '0'\n",
        "\n",
        "    item = input(\"Cadastre o item(Nome), Valor(R$), Tempo para fazer o prato(min) [0 Termina Cadastro]: \")\n",
        "    rodar_programa = item != sair\n",
        "\n",
        "    while (rodar_programa):\n",
        "        nome, valor, tempo = item.split(\", \")\n",
        "        cardapio.append((nome, float(valor), int(tempo)))\n",
        "        item = input(\"Cadastre o item(Nome), Valor(R$), Tempo para fazer o prato(min) [0 Termina Cadastro]: \")\n",
        "        rodar_programa = item != sair\n",
        "    restaurante = (id_restaurante, cardapio)\n",
        "    restaurantes.append(restaurante)"
      ],
      "metadata": {
        "id": "CNiZEdGG4qUR"
      },
      "execution_count": null,
      "outputs": []
    },
    {
      "cell_type": "markdown",
      "source": [
        "- Uso da estrutura de repetição FOR para iterar por uma sequência numérica criada pela função range() ou por elementos de uma sequência, onde a variável criada na sintaxe irá assumir o valor de cada elemento em cada iteração.\n",
        "- Uso do \"NoneType\" como valor de variáveis criadas sem valor inicial (O NoneType é a ausência de valor ou valor nulo)."
      ],
      "metadata": {
        "id": "QJQfcNN4F2tX"
      }
    },
    {
      "cell_type": "code",
      "source": [
        "def fazer_pedido (restaurantes):\n",
        "    id_restaurante = input('Informe o número do Restaurante: ')\n",
        "    restaurante_encontrado = None\n",
        "\n",
        "    for restaurante in restaurantes:\n",
        "        if restaurante[0] == id_restaurante:\n",
        "              restaurante_encontrado = restaurante\n",
        "    if restaurante_encontrado:\n",
        "        #numero_pedido = 1\n",
        "        cardapio = restaurante_encontrado[1]\n",
        "\n",
        "        print(\"Cardápio:\")\n",
        "        for i, (nome, valor, tempo) in enumerate(cardapio, 1):\n",
        "            print(f\"{i} - {nome} - R$ {valor:.2f} - Tempo: {tempo} min\")\n",
        "\n",
        "        pedido = []\n",
        "        sair = '0'\n",
        "\n",
        "        escolha_item = None\n",
        "        rodar_programa = escolha_item != sair\n",
        "\n",
        "        while (rodar_programa):\n",
        "            escolha_item = input(\"Incluir [0 Termina Pedido]: \")\n",
        "            if escolha_item == sair:\n",
        "               pass\n",
        "            elif int(escolha_item) > len(cardapio):\n",
        "                print(\"Item não encontrado. Por favor, cadastre o item primeiro.\")\n",
        "                escolha_item = input(\"Incluir [0 Termina Pedido]: \")\n",
        "            else:\n",
        "                pedido.append(cardapio[int(escolha_item) -1])\n",
        "            rodar_programa = escolha_item != sair\n",
        "\n",
        "        total = sum(item[1] for item in pedido)\n",
        "        tempo_total = max(item[2] for item in pedido)\n",
        "        print(f\"Seu pedido ficou R$ {total:.2f} e será entregue em {tempo_total} min\")\n",
        "    else:\n",
        "        print(\"Restaurante não encontrado. Por favor, cadastre o restaurante primeiro.\")"
      ],
      "metadata": {
        "id": "z_1jEc-X4vAR"
      },
      "execution_count": null,
      "outputs": []
    },
    {
      "cell_type": "markdown",
      "source": [
        "- Uma variável nomeada em caixa alta (e  respeitando o padão snake_case) significa que o seu valor atribuído não deve ser alterado.\n",
        "- É recomendável a não utilização da instrução BREAK nas estruturas de repetição como recurso de encerramento do looping. É uma boa prática subistituí-lo por uma condição lógica (rodar_programa = False).\n",
        "- Ajustamos o código para deixar o cadastro de restaurante e de cardápio em células separadas do pedido."
      ],
      "metadata": {
        "id": "fh0Nw7isF3p8"
      }
    },
    {
      "cell_type": "code",
      "source": [
        "restaurantes = []\n",
        "\n",
        "CADASTRAR_RESTAURANTE = '1'\n",
        "FAZER_PEDIDO = '2'\n",
        "SAIR_PROGRAMA = '3'\n",
        "\n",
        "\n",
        "rodar_programa = True\n",
        "\n",
        "while (rodar_programa):\n",
        "    opcao_escolhida = menu()\n",
        "\n",
        "    cadastro_restaurante = opcao_escolhida == CADASTRAR_RESTAURANTE\n",
        "    pedido = opcao_escolhida == FAZER_PEDIDO\n",
        "    encerrar_programa = opcao_escolhida == SAIR_PROGRAMA\n",
        "    #erro = opcao_escolhida != CADASTRAR_RESTAURANTE and opcao_escolhida != FAZER_PEDIDO and opcao_escolhida != SAIR_PROGRAMA\n",
        "\n",
        "\n",
        "    if (cadastro_restaurante):\n",
        "        cadastrar_restaurante(restaurantes)\n",
        "    elif (pedido):\n",
        "        fazer_pedido(restaurantes)\n",
        "    elif (encerrar_programa):\n",
        "        rodar_programa = False\n",
        "    else:\n",
        "        print('Opção inválida, tente novamente')"
      ],
      "metadata": {
        "id": "v0PRRweX405B"
      },
      "execution_count": null,
      "outputs": []
    },
    {
      "cell_type": "markdown",
      "source": [
        "- Dificuldades que encontramos:\n",
        "- Fazer a soma do pedido (era problema no append.pedido, usamos o print e assim conseguimos identificar que o \"0\" encerrava o programa mas também appendava o item -1 no pedido, por isso inserimos condição para appendar apenas quando o item seja != 0).\n",
        "- Evitar o break (rodar_programa = False)."
      ],
      "metadata": {
        "id": "MjAeMMmDF4-j"
      }
    }
  ]
}
